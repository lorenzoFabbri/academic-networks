{
 "cells": [
  {
   "cell_type": "markdown",
   "metadata": {},
   "source": [
    "# Examples usage of this library"
   ]
  },
  {
   "cell_type": "markdown",
   "metadata": {},
   "source": [
    "## Example 1: Search based on query and generation of map and network"
   ]
  },
  {
   "cell_type": "code",
   "execution_count": null,
   "metadata": {},
   "outputs": [],
   "source": [
    "from utils import Search, Map, Networks\n",
    "%load_ext autoreload\n",
    "%autoreload 2"
   ]
  },
  {
   "cell_type": "code",
   "execution_count": null,
   "metadata": {},
   "outputs": [],
   "source": [
    "\"\"\"\n",
    "Create Search object and perform actual search based on \n",
    "user-defined query.\n",
    "\"\"\"\n",
    "\n",
    "search = Search(email=\"\", \n",
    "               retmax=100, sort=\"pub date\")\n",
    "papers = search.search(\"key T OR key TJ\")"
   ]
  },
  {
   "cell_type": "code",
   "execution_count": null,
   "metadata": {},
   "outputs": [],
   "source": [
    "\"\"\"\n",
    "Create Pandas DataFrame with summary for each \n",
    "retrieved paper.\n",
    "\"\"\"\n",
    "\n",
    "search.create_df(papers)"
   ]
  },
  {
   "cell_type": "code",
   "execution_count": null,
   "metadata": {},
   "outputs": [],
   "source": [
    "\"\"\"\n",
    "Generate interactive map based on affiliations \n",
    "of the authors from ALL the retrieved papers.\n",
    "\"\"\"\n",
    "\n",
    "_map = Map()\n",
    "geo = _map.extract_geo_from_papers(papers)\n",
    "_map.generate_interactive_map_from_papers(geo)"
   ]
  },
  {
   "cell_type": "code",
   "execution_count": null,
   "metadata": {},
   "outputs": [],
   "source": [
    "\"\"\"\n",
    "Generate interactive network based on \n",
    "interactions of the authors from ALL \n",
    "the retrieved papers.\n",
    "\"\"\"\n",
    "\n",
    "Net = Networks()\n",
    "net = Net.generate_networks_from_papers(papers)\n",
    "net.show('net.html')"
   ]
  }
 ],
 "metadata": {
  "kernelspec": {
   "display_name": "academic",
   "language": "python",
   "name": "academic"
  },
  "language_info": {
   "codemirror_mode": {
    "name": "ipython",
    "version": 3
   },
   "file_extension": ".py",
   "mimetype": "text/x-python",
   "name": "python",
   "nbconvert_exporter": "python",
   "pygments_lexer": "ipython3",
   "version": "3.6.10"
  }
 },
 "nbformat": 4,
 "nbformat_minor": 4
}
