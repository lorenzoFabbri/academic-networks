{
 "cells": [
  {
   "cell_type": "code",
   "execution_count": null,
   "metadata": {},
   "outputs": [],
   "source": [
    "from utils import Search\n",
    "%load_ext autoreload\n",
    "%autoreload 2"
   ]
  },
  {
   "cell_type": "code",
   "execution_count": null,
   "metadata": {},
   "outputs": [],
   "source": [
    "import networkx as nx\n",
    "from pyvis.network import Network\n",
    "import matplotlib.pyplot as plt"
   ]
  },
  {
   "cell_type": "code",
   "execution_count": null,
   "metadata": {},
   "outputs": [],
   "source": [
    "### Test with interactive maps\n",
    "\n",
    "ex = Search(\"\", 100, sort='pub date')\n",
    "authors = ex.search(\"exposome OR exposomics\")\n",
    "data = ex.extract_geo(authors)\n",
    "ex.interactive_map(data)"
   ]
  },
  {
   "cell_type": "code",
   "execution_count": null,
   "metadata": {},
   "outputs": [],
   "source": [
    "### Authors\n",
    "\n",
    "res = {}\n",
    "for author in ex.authors:\n",
    "    res[author] = ex.authors[author].get_collaborators()"
   ]
  },
  {
   "cell_type": "code",
   "execution_count": null,
   "metadata": {},
   "outputs": [],
   "source": [
    "# Network of collaborators\n",
    "\n",
    "g = nx.DiGraph()\n",
    "g.add_nodes_from(res.keys())\n",
    "for k, v in res.items():\n",
    "    g.add_edges_from(([(k, t) for t in v]))\n",
    "    \n",
    "\"\"\"\n",
    "remove = [node for node, degree in dict(g.degree()).items() if degree < 10]\n",
    "g.remove_nodes_from(remove)\n",
    "\"\"\"\n",
    "\n",
    "#fig, ax = plt.subplots(1, 1, figsize=(30, 20))\n",
    "G = Network(height=700, width=700, notebook=True)\n",
    "G.from_nx(g)\n",
    "G.show('net.html')"
   ]
  }
 ],
 "metadata": {
  "kernelspec": {
   "display_name": "Python 3",
   "language": "python",
   "name": "python3"
  },
  "language_info": {
   "codemirror_mode": {
    "name": "ipython",
    "version": 3
   },
   "file_extension": ".py",
   "mimetype": "text/x-python",
   "name": "python",
   "nbconvert_exporter": "python",
   "pygments_lexer": "ipython3",
   "version": "3.6.10"
  }
 },
 "nbformat": 4,
 "nbformat_minor": 4
}
